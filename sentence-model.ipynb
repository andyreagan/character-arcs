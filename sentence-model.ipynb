{
 "cells": [
  {
   "cell_type": "code",
   "execution_count": 4,
   "metadata": {
    "collapsed": true
   },
   "outputs": [],
   "source": [
    "# detect chapter starts from the expanded epub\n",
    "# here, just take the raw text and turn it into sentences\n",
    "from os import listdir\n",
    "from os.path import isfile, join\n",
    "import sys\n",
    "sys.path.append(\"/Users/andyreagan/tools/python\")\n",
    "from kitchentable.dogtoys import *\n",
    "from json import loads\n",
    "from re import findall,UNICODE\n",
    "from labMTsimple.labMTsimple.speedy import LabMT\n",
    "import numpy as np\n",
    "import matplotlib.pyplot as plt\n",
    "%matplotlib inline\n",
    "import re"
   ]
  },
  {
   "cell_type": "code",
   "execution_count": 5,
   "metadata": {
    "collapsed": true
   },
   "outputs": [],
   "source": [
    "isbn = 9780618574940"
   ]
  },
  {
   "cell_type": "code",
   "execution_count": 6,
   "metadata": {
    "collapsed": false
   },
   "outputs": [],
   "source": [
    "fname = \"data/kindle/{0}.txt\".format(isbn)\n",
    "def load_chunks(fname):\n",
    "    f = open(fname,\"r\")\n",
    "    raw_text = f.read()\n",
    "    f.close()\n",
    "    lines = raw_text.split(\"\\n\")\n",
    "    raw_text_clean = re.sub(\"\\n[\\\\s\\n]+?\\n\",\"\\n\\n\",raw_text)\n",
    "    chunks = re.split(\"\\n\\n\\n*\",raw_text_clean)\n",
    "    return chunks\n",
    "chunks = load_chunks(fname)"
   ]
  },
  {
   "cell_type": "code",
   "execution_count": 10,
   "metadata": {
    "collapsed": true
   },
   "outputs": [],
   "source": [
    "def replace_honorifics(s):\n",
    "    honorifics = [\"Mr\",\"Master\",\"Miss\",\"Ms\",\"Mrs\",\"Mx\",\n",
    "              \"Sir\",\"Madame\",\"Dame\",\"Lord\",\"Lady\",\"Esq\",\"Adv\",\n",
    "              \"Dr\",\"Prof\",\n",
    "              \"Rev\",\"Fr\",\"Pr\",\"Br\",\"Sr\",\"Elder\",\"Rabbo\"]\n",
    "    abbreviations = [\"J.R.R\"] # ,\"Ph.D\",\"M.S\"] # <- could end a sentence...\n",
    "    for h in honorifics+abbreviations:\n",
    "        s = re.sub(h+\"\\\\.\",h,s)\n",
    "    return s\n",
    "sentence_re = re.compile('[\\\\s\\n]*(.+?[\\\\.!?]+[\"’]*(?=\\\\s+[A-Z\"’‘]|$))',flags=re.DOTALL)\n",
    "def find_sentences(s):\n",
    "    return sentence_re.findall(replace_honorifics(s))\n",
    "sentences = []\n",
    "for c_str in chunks:\n",
    "    sentences.extend(find_sentences(c_str))"
   ]
  },
  {
   "cell_type": "code",
   "execution_count": 11,
   "metadata": {
    "collapsed": false
   },
   "outputs": [
    {
     "data": {
      "text/plain": [
       "['In the Land of Mordor where the Shadows lie.',\n",
       " 'In the Land of Mordor where the Shadows lie.',\n",
       " 'J.R.R Tolkien’s The Lord of the Rings is often erroneously called a trilogy, when it is in fact a single novel, consisting of six books plus appendices, sometimes published in three volumes.',\n",
       " 'The first volume, The Fellowship of the Ring, was published in Great Britain by the London firm George Allen & Unwin on 29 July 1954; an American edition followed on 21 October of the same year, published by Houghton Mifflin Company of Boston.',\n",
       " 'In the production of this first volume, Tolkien experienced what became for him a continual problem: printer’s errors and compositor’s mistakes, including well-intentioned ‘corrections’ of his sometimes idiosyncratic usage.',\n",
       " 'These ‘corrections’ include the altering of dwarves to dwarfs, elvish to elfish, further to farther, nasturtians to nasturtiums, try and say to try to say and (‘worst of all’ to Tolkien) elven to elfin.',\n",
       " 'In a work such as The Lord of the Rings, containing invented languages and delicately constructed nomenclatures, errors and inconsistencies impede both the understanding and the appreciation of serious readers – and Tolkien had many such readers from very early on.',\n",
       " 'Even before the publication of the third volume, which contained much hitherto unrevealed information on the invented languages and writing systems, Tolkien received many letters from readers written in these systems, in addition to numerous enquiries on the finer points of their usage.',\n",
       " 'The second volume, The Two Towers, was published in England on 11 November 1954 and in the United States on 21 April 1955.',\n",
       " 'Meanwhile Tolkien worked to keep a promise he had made in the foreword to volume one: that ‘an index of names and strange words’ would appear in the third volume.']"
      ]
     },
     "execution_count": 11,
     "metadata": {},
     "output_type": "execute_result"
    }
   ],
   "source": [
    "sentences[:10]"
   ]
  },
  {
   "cell_type": "code",
   "execution_count": 8,
   "metadata": {
    "collapsed": true
   },
   "outputs": [],
   "source": [
    "# now, let's google simple phrase model\n",
    "# remove all periods from the end of sentences\n",
    "# and remove all quotations that start or end words\n",
    "# shit, we're tokenizing\n",
    "# remove all case as well"
   ]
  },
  {
   "cell_type": "code",
   "execution_count": 25,
   "metadata": {
    "collapsed": false
   },
   "outputs": [],
   "source": [
    "def strip_sentence_grammar(s):\n",
    "    if s[-1] == \".\":\n",
    "        s = s[:-1]\n",
    "    s = s.lower()\n",
    "    # s = s.replace(\"’s\",\"\")\n",
    "    s = s.replace(\",\",\"\")\n",
    "    return s\n",
    "sentences_stripped = list(map(strip_sentence_grammar,sentences))"
   ]
  },
  {
   "cell_type": "code",
   "execution_count": 26,
   "metadata": {
    "collapsed": false
   },
   "outputs": [
    {
     "data": {
      "text/plain": [
       "['in the land of mordor where the shadows lie',\n",
       " 'in the land of mordor where the shadows lie',\n",
       " 'j.r.r tolkien’s the lord of the rings is often erroneously called a trilogy when it is in fact a single novel consisting of six books plus appendices sometimes published in three volumes',\n",
       " 'the first volume the fellowship of the ring was published in great britain by the london firm george allen & unwin on 29 july 1954; an american edition followed on 21 october of the same year published by houghton mifflin company of boston',\n",
       " 'in the production of this first volume tolkien experienced what became for him a continual problem: printer’s errors and compositor’s mistakes including well-intentioned ‘corrections’ of his sometimes idiosyncratic usage',\n",
       " 'these ‘corrections’ include the altering of dwarves to dwarfs elvish to elfish further to farther nasturtians to nasturtiums try and say to try to say and (‘worst of all’ to tolkien) elven to elfin',\n",
       " 'in a work such as the lord of the rings containing invented languages and delicately constructed nomenclatures errors and inconsistencies impede both the understanding and the appreciation of serious readers – and tolkien had many such readers from very early on',\n",
       " 'even before the publication of the third volume which contained much hitherto unrevealed information on the invented languages and writing systems tolkien received many letters from readers written in these systems in addition to numerous enquiries on the finer points of their usage',\n",
       " 'the second volume the two towers was published in england on 11 november 1954 and in the united states on 21 april 1955',\n",
       " 'meanwhile tolkien worked to keep a promise he had made in the foreword to volume one: that ‘an index of names and strange words’ would appear in the third volume']"
      ]
     },
     "execution_count": 26,
     "metadata": {},
     "output_type": "execute_result"
    }
   ],
   "source": [
    "sentences_stripped[:10]"
   ]
  },
  {
   "cell_type": "code",
   "execution_count": 27,
   "metadata": {
    "collapsed": false
   },
   "outputs": [
    {
     "name": "stdout",
     "output_type": "stream",
     "text": [
      "[['in', 'the', 'land', 'of', 'mordor', 'where', 'the', 'shadows', 'lie'], ['in', 'the', 'land', 'of', 'mordor', 'where', 'the', 'shadows', 'lie'], ['j.r.r', 'tolkien’s', 'the', 'lord', 'of', 'the', 'rings', 'is', 'often', 'erroneously', 'called', 'a', 'trilogy', 'when', 'it', 'is', 'in', 'fact', 'a', 'single', 'novel', 'consisting', 'of', 'six', 'books', 'plus', 'appendices', 'sometimes', 'published', 'in', 'three', 'volumes'], ['the', 'first', 'volume', 'the', 'fellowship', 'of', 'the', 'ring', 'was', 'published', 'in', 'great', 'britain', 'by', 'the', 'london', 'firm', 'george', 'allen', '&', 'unwin', 'on', '29', 'july', '1954;', 'an', 'american', 'edition', 'followed', 'on', '21', 'october', 'of', 'the', 'same', 'year', 'published', 'by', 'houghton', 'mifflin', 'company', 'of', 'boston'], ['in', 'the', 'production', 'of', 'this', 'first', 'volume', 'tolkien', 'experienced', 'what', 'became', 'for', 'him', 'a', 'continual', 'problem:', 'printer’s', 'errors', 'and', 'compositor’s', 'mistakes', 'including', 'well-intentioned', '‘corrections’', 'of', 'his', 'sometimes', 'idiosyncratic', 'usage'], ['these', '‘corrections’', 'include', 'the', 'altering', 'of', 'dwarves', 'to', 'dwarfs', 'elvish', 'to', 'elfish', 'further', 'to', 'farther', 'nasturtians', 'to', 'nasturtiums', 'try', 'and', 'say', 'to', 'try', 'to', 'say', 'and', '(‘worst', 'of', 'all’', 'to', 'tolkien)', 'elven', 'to', 'elfin'], ['in', 'a', 'work', 'such', 'as', 'the', 'lord', 'of', 'the', 'rings', 'containing', 'invented', 'languages', 'and', 'delicately', 'constructed', 'nomenclatures', 'errors', 'and', 'inconsistencies', 'impede', 'both', 'the', 'understanding', 'and', 'the', 'appreciation', 'of', 'serious', 'readers', '–', 'and', 'tolkien', 'had', 'many', 'such', 'readers', 'from', 'very', 'early', 'on'], ['even', 'before', 'the', 'publication', 'of', 'the', 'third', 'volume', 'which', 'contained', 'much', 'hitherto', 'unrevealed', 'information', 'on', 'the', 'invented', 'languages', 'and', 'writing', 'systems', 'tolkien', 'received', 'many', 'letters', 'from', 'readers', 'written', 'in', 'these', 'systems', 'in', 'addition', 'to', 'numerous', 'enquiries', 'on', 'the', 'finer', 'points', 'of', 'their', 'usage'], ['the', 'second', 'volume', 'the', 'two', 'towers', 'was', 'published', 'in', 'england', 'on', '11', 'november', '1954', 'and', 'in', 'the', 'united', 'states', 'on', '21', 'april', '1955'], ['meanwhile', 'tolkien', 'worked', 'to', 'keep', 'a', 'promise', 'he', 'had', 'made', 'in', 'the', 'foreword', 'to', 'volume', 'one:', 'that', '‘an', 'index', 'of', 'names', 'and', 'strange', 'words’', 'would', 'appear', 'in', 'the', 'third', 'volume']]\n"
     ]
    }
   ],
   "source": [
    "sentences_split = list(map(lambda x: x.split(\" \"),sentences_stripped))\n",
    "print(sentences_split[:10])"
   ]
  },
  {
   "cell_type": "code",
   "execution_count": 28,
   "metadata": {
    "collapsed": false
   },
   "outputs": [],
   "source": [
    "unigrams = dict()\n",
    "bigrams = dict()\n",
    "for s in sentences_split:\n",
    "    for word in s:\n",
    "        if word in unigrams:\n",
    "            unigrams[word] += 1\n",
    "        else:\n",
    "            unigrams[word] = 1\n",
    "    for i in range(len(s)-1):\n",
    "        bg = \" \".join(s[i:i+2])\n",
    "        # bg = \" \".join([s[i],s[i+1]])\n",
    "        if bg in bigrams:\n",
    "            bigrams[bg] += 1\n",
    "        else:\n",
    "            bigrams[bg] = 1"
   ]
  },
  {
   "cell_type": "code",
   "execution_count": 29,
   "metadata": {
    "collapsed": false
   },
   "outputs": [
    {
     "data": {
      "text/plain": [
       "944"
      ]
     },
     "execution_count": 29,
     "metadata": {},
     "output_type": "execute_result"
    }
   ],
   "source": [
    "unigrams[\"frodo\"]"
   ]
  },
  {
   "cell_type": "code",
   "execution_count": 30,
   "metadata": {
    "collapsed": false
   },
   "outputs": [
    {
     "data": {
      "text/plain": [
       "25"
      ]
     },
     "execution_count": 30,
     "metadata": {},
     "output_type": "execute_result"
    }
   ],
   "source": [
    "bigrams[\"minas tirith\"]"
   ]
  },
  {
   "cell_type": "code",
   "execution_count": 31,
   "metadata": {
    "collapsed": false
   },
   "outputs": [
    {
     "name": "stdout",
     "output_type": "stream",
     "text": [
      "13853\n",
      "79693\n"
     ]
    }
   ],
   "source": [
    "print(len(unigrams))\n",
    "print(len(bigrams))"
   ]
  },
  {
   "cell_type": "code",
   "execution_count": 32,
   "metadata": {
    "collapsed": true
   },
   "outputs": [],
   "source": [
    "threshold = .0005\n",
    "# min number of times it has to show up\n",
    "delta = 5"
   ]
  },
  {
   "cell_type": "code",
   "execution_count": 33,
   "metadata": {
    "collapsed": false
   },
   "outputs": [],
   "source": [
    "# phrases = []\n",
    "# for wordi in unigrams:\n",
    "#     for wordj in unigrams:\n",
    "#         if not wordi == wordj:\n",
    "#             bg = \" \".join([wordi,wordj])\n",
    "#             if bg in bigrams:\n",
    "#                 score = (bigrams[bg]-delta)/(unigrams[wordi]*unigrams[wordj])\n",
    "#                 if score > threshold:\n",
    "#                     phrases.append(bg)\n",
    "#                     print(bg)\n",
    "phrases = []\n",
    "for bg in bigrams:\n",
    "    wordi,wordj = bg.split(\" \")\n",
    "    score = (bigrams[bg]-delta)/(unigrams[wordi]*unigrams[wordj])\n",
    "    if score > threshold:\n",
    "        phrases.append(bg)\n",
    "        # print(bg)"
   ]
  },
  {
   "cell_type": "code",
   "execution_count": 34,
   "metadata": {
    "collapsed": false
   },
   "outputs": [
    {
     "data": {
      "text/plain": [
       "['red book',\n",
       " 'never seen',\n",
       " 'any case',\n",
       " 'world outside',\n",
       " 'mr baggins',\n",
       " 'sarn gebir',\n",
       " 'poor old',\n",
       " 'their minds',\n",
       " 'gladden fields',\n",
       " 'black figures',\n",
       " 'good deal',\n",
       " 'these parts',\n",
       " 'an effort',\n",
       " 'years ago',\n",
       " 'minas tirith',\n",
       " 'at least',\n",
       " 'fatty bolger',\n",
       " '‘i am',\n",
       " 'farmer maggot',\n",
       " 'christopher tolkien',\n",
       " '‘ “i',\n",
       " 'don’t know',\n",
       " 'mr underhill',\n",
       " 'emyn muil',\n",
       " 'michel delving',\n",
       " '‘let us',\n",
       " 'rather than',\n",
       " 'lady galadriel',\n",
       " 'an hour',\n",
       " '& unwin',\n",
       " 'elder days',\n",
       " 'at length',\n",
       " 'fell asleep',\n",
       " 'nothing else',\n",
       " 'any rate',\n",
       " 'long ago',\n",
       " 'allen &',\n",
       " 'either side',\n",
       " 'something else',\n",
       " 'fast asleep',\n",
       " 'those who',\n",
       " 'third age',\n",
       " 'no longer',\n",
       " 'their backs',\n",
       " 'brandywine bridge',\n",
       " 'dark tower',\n",
       " 'bag end',\n",
       " 'worry about',\n",
       " '‘of course',\n",
       " 'am afraid',\n",
       " 'mr butterbur',\n",
       " 'gandalf ’s',\n",
       " 'redhorn gate',\n",
       " 'amon hen',\n",
       " 'let us',\n",
       " 'next day',\n",
       " 'their heads',\n",
       " 'doom doom',\n",
       " 'houghton mifflin',\n",
       " 'sam gamgee',\n",
       " 'low voice',\n",
       " 'picked up',\n",
       " 'tol brandir',\n",
       " 'your pardon',\n",
       " 'turned aside',\n",
       " 'worse than',\n",
       " 'big people',\n",
       " 'misty mountains',\n",
       " 'black riders',\n",
       " 'dol guldur',\n",
       " 'don’t know’',\n",
       " 'no sign',\n",
       " 'drew nearer',\n",
       " 'brandy hall',\n",
       " 'tom bombadil',\n",
       " 'bagshot row',\n",
       " 'mean?’ asked',\n",
       " 'dimrill dale']"
      ]
     },
     "execution_count": 34,
     "metadata": {},
     "output_type": "execute_result"
    }
   ],
   "source": [
    "phrases"
   ]
  },
  {
   "cell_type": "code",
   "execution_count": 35,
   "metadata": {
    "collapsed": false
   },
   "outputs": [],
   "source": [
    "for j,s in enumerate(sentences_split):\n",
    "    joins = []\n",
    "    for i in range(len(s)-1):\n",
    "        bg = \" \".join(s[i:i+2])\n",
    "        if bg in phrases:\n",
    "            joins.append(i+1)\n",
    "    new_s = [s[0]]\n",
    "    for i in range(1,len(s)-1):\n",
    "        if i in joins:\n",
    "            new_s[-1] = \" \".join([new_s[-1],s[i]])\n",
    "        else:\n",
    "            new_s.append(s[i])\n",
    "    sentences_split[j] = new_s\n"
   ]
  },
  {
   "cell_type": "code",
   "execution_count": 36,
   "metadata": {
    "collapsed": true
   },
   "outputs": [],
   "source": [
    "unigrams = dict()\n",
    "bigrams = dict()\n",
    "for s in sentences_split:\n",
    "    for word in s:\n",
    "        if word in unigrams:\n",
    "            unigrams[word] += 1\n",
    "        else:\n",
    "            unigrams[word] = 1\n",
    "    for i in range(len(s)-1):\n",
    "        bg = \" \".join(s[i:i+2])\n",
    "        # bg = \" \".join([s[i],s[i+1]])\n",
    "        if bg in bigrams:\n",
    "            bigrams[bg][0] += 1\n",
    "        else:\n",
    "            bigrams[bg] = [1,s[i:i+2]]"
   ]
  },
  {
   "cell_type": "code",
   "execution_count": 37,
   "metadata": {
    "collapsed": false
   },
   "outputs": [],
   "source": [
    "threshold = .00005\n",
    "phrases = []\n",
    "for bg in bigrams:\n",
    "    wordi,wordj = bigrams[bg][1]\n",
    "    score = (bigrams[bg][0]-delta)/(unigrams[wordi]*unigrams[wordj])\n",
    "    if score > threshold:\n",
    "        phrases.append(bg)"
   ]
  },
  {
   "cell_type": "code",
   "execution_count": 38,
   "metadata": {
    "collapsed": false
   },
   "outputs": [
    {
     "name": "stdout",
     "output_type": "stream",
     "text": [
      "at any rate\n",
      "in any case\n",
      "had never seen\n",
      "at bag end\n",
      "no sign of\n",
      "i don’t know\n",
      "the misty mountains\n",
      "i am afraid\n",
      "‘i don’t know\n",
      "on either side\n",
      "don’t know what\n",
      "‘i don’t know’\n",
      "have never seen\n",
      "a good deal\n"
     ]
    }
   ],
   "source": [
    "for p in phrases:\n",
    "    if len(p.split(\" \"))>2:\n",
    "        print(p)"
   ]
  },
  {
   "cell_type": "code",
   "execution_count": 39,
   "metadata": {
    "collapsed": false
   },
   "outputs": [
    {
     "data": {
      "text/plain": [
       "73995"
      ]
     },
     "execution_count": 39,
     "metadata": {},
     "output_type": "execute_result"
    }
   ],
   "source": [
    "len(bigrams)"
   ]
  },
  {
   "cell_type": "code",
   "execution_count": 40,
   "metadata": {
    "collapsed": true
   },
   "outputs": [],
   "source": [
    "for j,s in enumerate(sentences_split):\n",
    "    joins = []\n",
    "    for i in range(len(s)-1):\n",
    "        bg = \" \".join(s[i:i+2])\n",
    "        if bg in phrases:\n",
    "            joins.append(i+1)\n",
    "    new_s = [s[0]]\n",
    "    for i in range(1,len(s)-1):\n",
    "        if i in joins:\n",
    "            new_s[-1] = \" \".join([new_s[-1],s[i]])\n",
    "        else:\n",
    "            new_s.append(s[i])\n",
    "    sentences_split[j] = new_s\n",
    "unigrams = dict()\n",
    "bigrams = dict()\n",
    "for s in sentences_split:\n",
    "    for word in s:\n",
    "        if word in unigrams:\n",
    "            unigrams[word] += 1\n",
    "        else:\n",
    "            unigrams[word] = 1\n",
    "    for i in range(len(s)-1):\n",
    "        bg = \" \".join(s[i:i+2])\n",
    "        # bg = \" \".join([s[i],s[i+1]])\n",
    "        if bg in bigrams:\n",
    "            bigrams[bg][0] += 1\n",
    "        else:\n",
    "            bigrams[bg] = [1,s[i:i+2]]\n",
    "threshold = .00005\n",
    "phrases = []\n",
    "for bg in bigrams:\n",
    "    wordi,wordj = bigrams[bg][1]\n",
    "    score = (bigrams[bg][0]-delta)/(unigrams[wordi]*unigrams[wordj])\n",
    "    if score > threshold:\n",
    "        phrases.append(bg)\n",
    "for j,s in enumerate(sentences_split):\n",
    "    joins = []\n",
    "    for i in range(len(s)-1):\n",
    "        bg = \" \".join(s[i:i+2])\n",
    "        if bg in phrases:\n",
    "            joins.append(i+1)\n",
    "    new_s = [s[0]]\n",
    "    for i in range(1,len(s)-1):\n",
    "        if i in joins:\n",
    "            new_s[-1] = \" \".join([new_s[-1],s[i]])\n",
    "        else:\n",
    "            new_s.append(s[i])\n",
    "    sentences_split[j] = new_s"
   ]
  },
  {
   "cell_type": "code",
   "execution_count": 41,
   "metadata": {
    "collapsed": false
   },
   "outputs": [],
   "source": [
    "bigrams = dict()\n",
    "trigrams = dict()\n",
    "fourgrams = dict()\n",
    "for u in unigrams:\n",
    "    if len(u.split(\" \"))==2:\n",
    "        bigrams[u] = unigrams[u]\n",
    "    if len(u.split(\" \"))==3:\n",
    "        trigrams[u] = unigrams[u]\n",
    "    if len(u.split(\" \"))==4:\n",
    "        fourgrams[u] = unigrams[u]"
   ]
  },
  {
   "cell_type": "code",
   "execution_count": 42,
   "metadata": {
    "collapsed": false
   },
   "outputs": [
    {
     "data": {
      "text/plain": [
       "788"
      ]
     },
     "execution_count": 42,
     "metadata": {},
     "output_type": "execute_result"
    }
   ],
   "source": [
    "len(bigrams)"
   ]
  },
  {
   "cell_type": "code",
   "execution_count": 43,
   "metadata": {
    "collapsed": false
   },
   "outputs": [
    {
     "data": {
      "text/plain": [
       "581"
      ]
     },
     "execution_count": 43,
     "metadata": {},
     "output_type": "execute_result"
    }
   ],
   "source": [
    "len(trigrams)"
   ]
  },
  {
   "cell_type": "code",
   "execution_count": 44,
   "metadata": {
    "collapsed": false
   },
   "outputs": [
    {
     "data": {
      "text/plain": [
       "142"
      ]
     },
     "execution_count": 44,
     "metadata": {},
     "output_type": "execute_result"
    }
   ],
   "source": [
    "len(fourgrams)"
   ]
  },
  {
   "cell_type": "code",
   "execution_count": 45,
   "metadata": {
    "collapsed": false
   },
   "outputs": [
    {
     "name": "stdout",
     "output_type": "stream",
     "text": [
      "[('if you want to', 7), ('i do not know', 7), ('i will tell you', 6), ('i have never seen', 6), ('‘i don’t know what', 6), ('i don’t know what', 5), ('‘i do not know’', 5), ('‘i do not know', 5), ('there is no time', 5), ('i have never heard', 4), ('he had never seen', 4), ('it is no good', 4), ('he had never heard', 4), ('i should like a', 4), ('it would have been', 3), ('if you know what', 3), ('when they had eaten', 3), ('‘but i am not', 3), ('it seemed to be', 3), ('they came out of', 3)]\n"
     ]
    }
   ],
   "source": [
    "a = [(f,fourgrams[f]) for f in fourgrams]\n",
    "a.sort(key=lambda x: x[1],reverse=True)\n",
    "print(a[:20])"
   ]
  },
  {
   "cell_type": "code",
   "execution_count": 46,
   "metadata": {
    "collapsed": false
   },
   "outputs": [
    {
     "data": {
      "text/plain": [
       "['if you want to',\n",
       " 'i do not know',\n",
       " 'i will tell you',\n",
       " 'i have never seen',\n",
       " '‘i don’t know what',\n",
       " 'i don’t know what',\n",
       " '‘i do not know’',\n",
       " '‘i do not know',\n",
       " 'there is no time',\n",
       " 'i have never heard',\n",
       " 'he had never seen',\n",
       " 'it is no good',\n",
       " 'he had never heard',\n",
       " 'i should like a',\n",
       " 'it would have been',\n",
       " 'if you know what',\n",
       " 'when they had eaten',\n",
       " '‘but i am not',\n",
       " 'it seemed to be',\n",
       " 'they came out of',\n",
       " 'what do you think',\n",
       " 'i am going to',\n",
       " 'we will not speak',\n",
       " '‘it is no good',\n",
       " 'it might have been',\n",
       " 'i have never been',\n",
       " 'there is no other',\n",
       " '‘and i do not',\n",
       " '– if you can',\n",
       " '‘what do you think']"
      ]
     },
     "execution_count": 46,
     "metadata": {},
     "output_type": "execute_result"
    }
   ],
   "source": [
    "sorted(fourgrams,reverse=True,key=lambda x: fourgrams[x])[:30]"
   ]
  },
  {
   "cell_type": "code",
   "execution_count": 47,
   "metadata": {
    "collapsed": false
   },
   "outputs": [
    {
     "data": {
      "text/plain": [
       "['seemed to be',\n",
       " 'the lord of',\n",
       " 'as soon as',\n",
       " 'it seemed to',\n",
       " 'the edge of',\n",
       " 'i do not',\n",
       " 'as far as',\n",
       " 'the top of',\n",
       " 'it would be',\n",
       " 'he could not',\n",
       " 'the middle of',\n",
       " 'no sign of',\n",
       " 'at any rate',\n",
       " 'as well as',\n",
       " 'could be seen',\n",
       " 'the misty mountains',\n",
       " 'he had been',\n",
       " 'the sun was',\n",
       " '‘i do not',\n",
       " 'they could see',\n",
       " 'a good deal',\n",
       " 'there is no',\n",
       " 'in any case',\n",
       " 'the midst of',\n",
       " 'i am not',\n",
       " 'they could not',\n",
       " 'they had been',\n",
       " '‘what do you',\n",
       " 'on either side',\n",
       " 'the bottom of']"
      ]
     },
     "execution_count": 47,
     "metadata": {},
     "output_type": "execute_result"
    }
   ],
   "source": [
    "sorted(trigrams,reverse=True,key=lambda x: trigrams[x])[:30]"
   ]
  },
  {
   "cell_type": "code",
   "execution_count": 48,
   "metadata": {
    "collapsed": false
   },
   "outputs": [
    {
     "data": {
      "text/plain": [
       "['it was',\n",
       " 'there was',\n",
       " 'it is',\n",
       " 'they were',\n",
       " 'out of',\n",
       " 'the ring',\n",
       " 'he had',\n",
       " 'as if',\n",
       " 'did not',\n",
       " 'they had',\n",
       " 'the road',\n",
       " 'the shire',\n",
       " 'i have',\n",
       " 'had been',\n",
       " 'to be',\n",
       " 'like a',\n",
       " 'there were',\n",
       " 'at last',\n",
       " 'a great',\n",
       " 'the company',\n",
       " 'there is',\n",
       " 'began to',\n",
       " 'if you',\n",
       " 'seemed to',\n",
       " 'i am',\n",
       " 'do not',\n",
       " 'end of',\n",
       " 'they are',\n",
       " 'there are',\n",
       " 'the others']"
      ]
     },
     "execution_count": 48,
     "metadata": {},
     "output_type": "execute_result"
    }
   ],
   "source": [
    "sorted(bigrams,reverse=True,key=lambda x: bigrams[x])[:30]"
   ]
  },
  {
   "cell_type": "code",
   "execution_count": 49,
   "metadata": {
    "collapsed": false
   },
   "outputs": [
    {
     "data": {
      "text/plain": [
       "['the',\n",
       " 'and',\n",
       " 'of',\n",
       " 'in',\n",
       " 'a',\n",
       " 'to',\n",
       " 'that',\n",
       " 'he',\n",
       " 'was',\n",
       " 'but',\n",
       " 'it',\n",
       " 'for',\n",
       " 'i',\n",
       " 'on',\n",
       " 'they',\n",
       " 'as',\n",
       " 'with',\n",
       " 'his',\n",
       " 'you',\n",
       " 'all']"
      ]
     },
     "execution_count": 49,
     "metadata": {},
     "output_type": "execute_result"
    }
   ],
   "source": [
    "sorted(unigrams,reverse=True,key=lambda x: unigrams[x])[:20]"
   ]
  },
  {
   "cell_type": "code",
   "execution_count": 50,
   "metadata": {
    "collapsed": false
   },
   "outputs": [],
   "source": [
    "def google_partition(sentences,niter=4\n",
    "                     \n",
    "                     ,thresholds=[.001,.0001,.00005,.00001]):\n",
    "    def strip_sentence_grammar(s):\n",
    "        if s[-1] == \".\":\n",
    "            s = s[:-1]\n",
    "        s = s.lower()\n",
    "        # s = s.replace(\"’s\",\"\")\n",
    "        s = s.replace(\",\",\"\")\n",
    "        return s\n",
    "    sentences_stripped = list(map(strip_sentence_grammar,sentences))\n",
    "    sentences_split = list(map(lambda x: x.split(\" \"),sentences_stripped))\n",
    "    # print(sentences_split[:10])\n",
    "    \n",
    "    delta = 5\n",
    "    \n",
    "    for k in range(niter):\n",
    "        threshold = thresholds[k]\n",
    "        unigrams = dict()\n",
    "        bigrams = dict()\n",
    "        for s in sentences_split:\n",
    "            for word in s:\n",
    "                if word in unigrams:\n",
    "                    unigrams[word] += 1\n",
    "                else:\n",
    "                    unigrams[word] = 1\n",
    "            for i in range(len(s)-1):\n",
    "                bg = \" \".join(s[i:i+2])\n",
    "                # bg = \" \".join([s[i],s[i+1]])\n",
    "                if bg in bigrams:\n",
    "                    bigrams[bg][0] += 1\n",
    "                else:\n",
    "                    bigrams[bg] = [1,s[i:i+2]]\n",
    "        phrases = []\n",
    "        for bg in bigrams:\n",
    "            wordi,wordj = bigrams[bg][1]\n",
    "            score = (bigrams[bg][0]-delta)/(unigrams[wordi]*unigrams[wordj])\n",
    "            if score > threshold:\n",
    "                phrases.append(bg)\n",
    "        for j,s in enumerate(sentences_split):\n",
    "            joins = []\n",
    "            for i in range(len(s)-1):\n",
    "                bg = \" \".join(s[i:i+2])\n",
    "                if bg in phrases:\n",
    "                    joins.append(i+1)\n",
    "            new_s = [s[0]]\n",
    "            for i in range(1,len(s)-1):\n",
    "                if i in joins:\n",
    "                    new_s[-1] = \" \".join([new_s[-1],s[i]])\n",
    "                else:\n",
    "                    new_s.append(s[i])\n",
    "            sentences_split[j] = new_s\n",
    "#     bigrams = dict()\n",
    "#     trigrams = dict()\n",
    "#     fourgrams = dict()\n",
    "#     unigrams = dict()\n",
    "    grams = [dict() for i in range(2**niter)]\n",
    "    for s in sentences_split:\n",
    "        for word in s:\n",
    "            nwords = len(word.split(\" \"))-1\n",
    "            if word in grams[nwords]:\n",
    "                grams[nwords][word] += 1\n",
    "            else:\n",
    "                grams[nwords][word] = 1\n",
    "    # return (unigrams,bigrams,trigrams,fourgrams)\n",
    "    return grams,sentences_split"
   ]
  },
  {
   "cell_type": "code",
   "execution_count": 51,
   "metadata": {
    "collapsed": false
   },
   "outputs": [],
   "source": [
    "grams,partitioned_sentences = google_partition(sentences)"
   ]
  },
  {
   "cell_type": "code",
   "execution_count": 52,
   "metadata": {
    "collapsed": false,
    "scrolled": false
   },
   "outputs": [
    {
     "name": "stdout",
     "output_type": "stream",
     "text": [
      "[10634, 1754, 2075, 701, 168, 67, 15, 3, 2, 0, 0, 0, 0, 0, 0, 0]\n",
      "1 ['and', 'the', 'of', 'but', 'that', 'a', 'to', 'in', 'it', 'was']\n",
      "2 ['in the', 'of the', 'it was', 'on the', 'it is', 'they were', 'he was', 'with a', 'to the', 'the ring']\n",
      "3 ['there was a', 'for a while', 'for a moment', 'as soon as', 'it seemed to', 'seemed to be', 'in the shire', 'one of the', 'he did not', '‘i do not']\n",
      "4 ['in the midst of', 'as if he was', 'at the end of', 'the other side of', 'in the middle of', 'if you want to', 'there seemed to be', 'a matter of fact', 'he added with a', 'but it was not']\n",
      "5 ['the lord of the rings', 'it seemed to him that', 'at the bottom of the', 'in the house of elrond', 'the ring in his hand', 'as far as they could', 'he found that he was', 'then he got up and', 'slopes of the hill and', 'out of the west and']\n",
      "6 ['of the lord of the rings', 'of the fellowship of the ring', 'at the end of the long', 'to the top of the bank', 'for the history of the war', 'of the master of the hall', 'the river and all the light', 'and saw the light of the', 'him as long as i could', 'like the light of the moon']\n",
      "7 ['it seemed to him that he had', 'at the end of the red book', 'at the feet of the trees and', 'up again and he found that he', 'it seemed to him that he could', 'close to the feet of the hills', 'to the feet of the mountains and', 'up to the walls of moria and', 'at the end of the third age', 'history of the lord of the rings']\n",
      "8 ['to know that he was on the way', 'at the bottom of the path and then', 'the way of the men of minas tirith']\n",
      "9 ['came out of the shadow of the trees and', 'in the days of the power of the north']\n"
     ]
    }
   ],
   "source": [
    "print([len(g) for g in grams])\n",
    "for k in range(len(grams)):\n",
    "    if len(grams[k]) > 0:\n",
    "        print(k+1,sorted(grams[k],reverse=True,key=lambda x: grams[k][x])[:10])"
   ]
  },
  {
   "cell_type": "code",
   "execution_count": 53,
   "metadata": {
    "collapsed": true
   },
   "outputs": [],
   "source": [
    "def serial_partition(sentences):\n",
    "    print(len(sentences))\n",
    "    clauses = []\n",
    "    for s in sentences:\n",
    "        clauses.extend(re.split(r\"[,;()?–]+\",s))\n",
    "    print(len(clauses))\n",
    "    print(clauses[:10])\n",
    "    clauses_split = list(map(lambda x: re.findall(r\"([\\w&]+[]*[\\w&]+)\",x,flags=re.IGNORECASE),clauses))\n",
    "    print(clauses_split[0])\n",
    "    longest_clause = sorted(clauses_split,reverse=True,key=lambda x: len(x))\n",
    "    print(len(longest_clause[0]))\n",
    "    print(longest_clause[0])\n",
    "    \n",
    "    def context_model():\n",
    "        pass\n",
    "    \n",
    "    return 1"
   ]
  },
  {
   "cell_type": "code",
   "execution_count": 54,
   "metadata": {
    "collapsed": false
   },
   "outputs": [
    {
     "name": "stdout",
     "output_type": "stream",
     "text": [
      "12645\n",
      "26825\n",
      "['In the Land of Mordor where the Shadows lie.', 'In the Land of Mordor where the Shadows lie.', 'J.R.R Tolkien’s The Lord of the Rings is often erroneously called a trilogy', ' when it is in fact a single novel', ' consisting of six books plus appendices', ' sometimes published in three volumes.', 'The first volume', ' The Fellowship of the Ring', ' was published in Great Britain by the London firm George Allen & Unwin on 29 July 1954', ' an American edition followed on 21 October of the same year']\n",
      "['In', 'the', 'Land', 'of', 'Mordor', 'where', 'the', 'Shadows', 'lie']\n",
      "39\n",
      "['At', 'the', 'end', 'of', 'the', 'Third', 'Age', 'the', 'part', 'played', 'by', 'the', 'Hobbits', 'in', 'the', 'great', 'events', 'that', 'led', 'to', 'the', 'inclusion', 'of', 'the', 'Shire', 'in', 'the', 'Reunited', 'Kingdom', 'awakened', 'among', 'them', 'more', 'widespread', 'interest', 'in', 'their', 'own', 'history']\n"
     ]
    },
    {
     "data": {
      "text/plain": [
       "1"
      ]
     },
     "execution_count": 54,
     "metadata": {},
     "output_type": "execute_result"
    }
   ],
   "source": [
    "serial_partition(sentences)"
   ]
  },
  {
   "cell_type": "markdown",
   "metadata": {},
   "source": [
    "let's look for the happy/not happy..."
   ]
  },
  {
   "cell_type": "code",
   "execution_count": 55,
   "metadata": {
    "collapsed": false
   },
   "outputs": [
    {
     "data": {
      "text/plain": [
       "True"
      ]
     },
     "execution_count": 55,
     "metadata": {},
     "output_type": "execute_result"
    }
   ],
   "source": [
    "\"happy\" in grams[0]"
   ]
  },
  {
   "cell_type": "code",
   "execution_count": 56,
   "metadata": {
    "collapsed": false
   },
   "outputs": [
    {
     "data": {
      "text/plain": [
       "[]"
      ]
     },
     "execution_count": 56,
     "metadata": {},
     "output_type": "execute_result"
    }
   ],
   "source": [
    "[x for x in grams[1] if \"happy\" in x]"
   ]
  },
  {
   "cell_type": "markdown",
   "metadata": {},
   "source": [
    "\"not happy\" didn't exist..."
   ]
  },
  {
   "cell_type": "markdown",
   "metadata": {},
   "source": [
    "### now we have the rough phrase partition, let's do an embedding with a smoothed context window"
   ]
  },
  {
   "cell_type": "code",
   "execution_count": 57,
   "metadata": {
    "collapsed": false
   },
   "outputs": [
    {
     "data": {
      "text/plain": [
       "[['in', 'the land', 'of mordor where'],\n",
       " ['in', 'the land', 'of mordor where'],\n",
       " ['j.r.r',\n",
       "  'tolkien’s',\n",
       "  'the lord of the rings',\n",
       "  'is',\n",
       "  'often',\n",
       "  'erroneously',\n",
       "  'called',\n",
       "  'a',\n",
       "  'trilogy',\n",
       "  'when',\n",
       "  'it is',\n",
       "  'in fact',\n",
       "  'a single',\n",
       "  'novel',\n",
       "  'consisting',\n",
       "  'of',\n",
       "  'six',\n",
       "  'books',\n",
       "  'plus',\n",
       "  'appendices',\n",
       "  'sometimes',\n",
       "  'published'],\n",
       " ['the',\n",
       "  'first',\n",
       "  'volume',\n",
       "  'the',\n",
       "  'fellowship of the ring',\n",
       "  'was',\n",
       "  'published',\n",
       "  'in',\n",
       "  'great',\n",
       "  'britain',\n",
       "  'by',\n",
       "  'the',\n",
       "  'london',\n",
       "  'firm',\n",
       "  'george',\n",
       "  'allen & unwin',\n",
       "  'on',\n",
       "  '29',\n",
       "  'july',\n",
       "  '1954;',\n",
       "  'an',\n",
       "  'american',\n",
       "  'edition',\n",
       "  'followed',\n",
       "  'on',\n",
       "  '21',\n",
       "  'october',\n",
       "  'of',\n",
       "  'the same',\n",
       "  'year',\n",
       "  'published',\n",
       "  'by',\n",
       "  'houghton mifflin'],\n",
       " ['in',\n",
       "  'the',\n",
       "  'production',\n",
       "  'of',\n",
       "  'this',\n",
       "  'first',\n",
       "  'volume',\n",
       "  'tolkien',\n",
       "  'experienced',\n",
       "  'what',\n",
       "  'became',\n",
       "  'for',\n",
       "  'him',\n",
       "  'a',\n",
       "  'continual',\n",
       "  'problem:',\n",
       "  'printer’s',\n",
       "  'errors',\n",
       "  'and',\n",
       "  'compositor’s',\n",
       "  'mistakes',\n",
       "  'including',\n",
       "  'well-intentioned',\n",
       "  '‘corrections’',\n",
       "  'of',\n",
       "  'his'],\n",
       " ['these',\n",
       "  '‘corrections’',\n",
       "  'include',\n",
       "  'the',\n",
       "  'altering',\n",
       "  'of',\n",
       "  'dwarves',\n",
       "  'to',\n",
       "  'dwarfs',\n",
       "  'elvish',\n",
       "  'to',\n",
       "  'elfish',\n",
       "  'further',\n",
       "  'to',\n",
       "  'farther',\n",
       "  'nasturtians',\n",
       "  'to',\n",
       "  'nasturtiums',\n",
       "  'try',\n",
       "  'and',\n",
       "  'say',\n",
       "  'to try',\n",
       "  'to say',\n",
       "  'and',\n",
       "  '(‘worst',\n",
       "  'of',\n",
       "  'all’',\n",
       "  'to',\n",
       "  'tolkien)'],\n",
       " ['in',\n",
       "  'a',\n",
       "  'work',\n",
       "  'such as',\n",
       "  'the lord of the rings',\n",
       "  'containing',\n",
       "  'invented',\n",
       "  'languages',\n",
       "  'and',\n",
       "  'delicately',\n",
       "  'constructed',\n",
       "  'nomenclatures',\n",
       "  'errors',\n",
       "  'and',\n",
       "  'inconsistencies',\n",
       "  'impede',\n",
       "  'both',\n",
       "  'the',\n",
       "  'understanding',\n",
       "  'and',\n",
       "  'the',\n",
       "  'appreciation',\n",
       "  'of',\n",
       "  'serious',\n",
       "  'readers',\n",
       "  '–',\n",
       "  'and',\n",
       "  'tolkien',\n",
       "  'had',\n",
       "  'many',\n",
       "  'such',\n",
       "  'readers',\n",
       "  'from'],\n",
       " ['even',\n",
       "  'before',\n",
       "  'the',\n",
       "  'publication',\n",
       "  'of',\n",
       "  'the',\n",
       "  'third',\n",
       "  'volume',\n",
       "  'which',\n",
       "  'contained',\n",
       "  'much',\n",
       "  'hitherto',\n",
       "  'unrevealed',\n",
       "  'information',\n",
       "  'on',\n",
       "  'the',\n",
       "  'invented',\n",
       "  'languages',\n",
       "  'and',\n",
       "  'writing',\n",
       "  'systems',\n",
       "  'tolkien',\n",
       "  'received',\n",
       "  'many',\n",
       "  'letters',\n",
       "  'from',\n",
       "  'readers',\n",
       "  'written',\n",
       "  'in',\n",
       "  'these',\n",
       "  'systems',\n",
       "  'in',\n",
       "  'addition',\n",
       "  'to',\n",
       "  'numerous',\n",
       "  'enquiries',\n",
       "  'on',\n",
       "  'the',\n",
       "  'finer',\n",
       "  'points'],\n",
       " ['the',\n",
       "  'second',\n",
       "  'volume',\n",
       "  'the',\n",
       "  'two',\n",
       "  'towers',\n",
       "  'was',\n",
       "  'published',\n",
       "  'in',\n",
       "  'england',\n",
       "  'on',\n",
       "  '11',\n",
       "  'november',\n",
       "  '1954',\n",
       "  'and',\n",
       "  'in',\n",
       "  'the',\n",
       "  'united',\n",
       "  'states',\n",
       "  'on'],\n",
       " ['meanwhile',\n",
       "  'tolkien',\n",
       "  'worked',\n",
       "  'to keep',\n",
       "  'a',\n",
       "  'promise',\n",
       "  'he had',\n",
       "  'made',\n",
       "  'in',\n",
       "  'the',\n",
       "  'foreword',\n",
       "  'to',\n",
       "  'volume',\n",
       "  'one:',\n",
       "  'that',\n",
       "  '‘an',\n",
       "  'index',\n",
       "  'of',\n",
       "  'names',\n",
       "  'and',\n",
       "  'strange',\n",
       "  'words’',\n",
       "  'would',\n",
       "  'appear',\n",
       "  'in']]"
      ]
     },
     "execution_count": 57,
     "metadata": {},
     "output_type": "execute_result"
    }
   ],
   "source": [
    "# since I don't care about context any more than bag of words...\n",
    "sentences_split[:10]"
   ]
  },
  {
   "cell_type": "code",
   "execution_count": 58,
   "metadata": {
    "collapsed": true
   },
   "outputs": [],
   "source": [
    "all_words = []\n",
    "for x in partitioned_sentences:\n",
    "    all_words.extend(x)"
   ]
  },
  {
   "cell_type": "code",
   "execution_count": 59,
   "metadata": {
    "collapsed": false
   },
   "outputs": [
    {
     "data": {
      "text/plain": [
       "['in the land of',\n",
       " 'in the land of',\n",
       " 'j.r.r',\n",
       " 'tolkien’s',\n",
       " 'the lord of the rings',\n",
       " 'is',\n",
       " 'often',\n",
       " 'erroneously',\n",
       " 'called',\n",
       " 'a',\n",
       " 'trilogy',\n",
       " 'when',\n",
       " 'it is',\n",
       " 'in fact',\n",
       " 'a single',\n",
       " 'novel',\n",
       " 'consisting',\n",
       " 'of',\n",
       " 'six',\n",
       " 'books',\n",
       " 'plus',\n",
       " 'appendices',\n",
       " 'sometimes',\n",
       " 'the first',\n",
       " 'volume',\n",
       " 'the fellowship of the ring was',\n",
       " 'published in',\n",
       " 'great',\n",
       " 'britain',\n",
       " 'by the',\n",
       " 'london',\n",
       " 'firm',\n",
       " 'george',\n",
       " 'allen & unwin',\n",
       " 'on',\n",
       " '29',\n",
       " 'july',\n",
       " '1954;',\n",
       " 'an',\n",
       " 'american',\n",
       " 'edition',\n",
       " 'followed',\n",
       " 'on',\n",
       " '21',\n",
       " 'october',\n",
       " 'of',\n",
       " 'the same',\n",
       " 'year',\n",
       " 'published',\n",
       " 'by']"
      ]
     },
     "execution_count": 59,
     "metadata": {},
     "output_type": "execute_result"
    }
   ],
   "source": [
    "all_words[:50]"
   ]
  },
  {
   "cell_type": "code",
   "execution_count": 60,
   "metadata": {
    "collapsed": false
   },
   "outputs": [
    {
     "data": {
      "text/plain": [
       "102196"
      ]
     },
     "execution_count": 60,
     "metadata": {},
     "output_type": "execute_result"
    }
   ],
   "source": [
    "len(all_words)"
   ]
  },
  {
   "cell_type": "code",
   "execution_count": 61,
   "metadata": {
    "collapsed": true
   },
   "outputs": [],
   "source": [
    "L = 5\n",
    "from tqdm import tqdm"
   ]
  },
  {
   "cell_type": "code",
   "execution_count": 62,
   "metadata": {
    "collapsed": true
   },
   "outputs": [],
   "source": [
    "all_context_counts = dict()\n",
    "all_phrase_counts = dict()\n",
    "for word in all_words:\n",
    "    if word not in all_context_counts:\n",
    "        all_context_counts[word] = dict()\n",
    "    if word not in all_phrase_counts:\n",
    "        all_phrase_counts[word] = 1\n",
    "    else:\n",
    "        all_phrase_counts[word] += 1"
   ]
  },
  {
   "cell_type": "code",
   "execution_count": 63,
   "metadata": {
    "collapsed": false
   },
   "outputs": [
    {
     "data": {
      "text/plain": [
       "15419"
      ]
     },
     "execution_count": 63,
     "metadata": {},
     "output_type": "execute_result"
    }
   ],
   "source": [
    "len(all_context_counts)"
   ]
  },
  {
   "cell_type": "code",
   "execution_count": 64,
   "metadata": {
    "collapsed": true
   },
   "outputs": [],
   "source": [
    "all_words_extended = all_words[:L]+all_words"
   ]
  },
  {
   "cell_type": "code",
   "execution_count": 65,
   "metadata": {
    "collapsed": false
   },
   "outputs": [
    {
     "name": "stderr",
     "output_type": "stream",
     "text": [
      "100%|██████████| 102196/102196 [00:00<00:00, 109197.29it/s]"
     ]
    },
    {
     "name": "stdout",
     "output_type": "stream",
     "text": [
      "102196 10\n",
      "102197 9\n",
      "102198 8\n",
      "102199 7\n",
      "102200 6\n"
     ]
    },
    {
     "name": "stderr",
     "output_type": "stream",
     "text": [
      "\n"
     ]
    }
   ],
   "source": [
    "for i in tqdm(range(L,len(all_words_extended))):\n",
    "    context = all_words_extended[i-L:i+L+1]\n",
    "    if not len(context) == L*2+1:\n",
    "        print(i,len(context))\n",
    "    w = all_words_extended[i]\n",
    "    for c in context:\n",
    "        if not c == w:\n",
    "            if c not in all_context_counts[w]:\n",
    "                all_context_counts[w][c] = 1\n",
    "            else:\n",
    "                all_context_counts[w][c] += 1"
   ]
  },
  {
   "cell_type": "code",
   "execution_count": 66,
   "metadata": {
    "collapsed": false
   },
   "outputs": [
    {
     "data": {
      "text/plain": [
       "[('and', 112),\n",
       " ('the', 69),\n",
       " ('but', 32),\n",
       " ('of', 30),\n",
       " ('his', 29),\n",
       " ('a', 28),\n",
       " ('it', 24),\n",
       " ('that', 23),\n",
       " ('for', 20),\n",
       " ('he', 20),\n",
       " ('in', 19),\n",
       " ('was', 17),\n",
       " ('to', 16),\n",
       " ('now', 14),\n",
       " ('suddenly', 13),\n",
       " ('with', 13),\n",
       " ('over', 13),\n",
       " ('all', 12),\n",
       " ('on', 12),\n",
       " ('said', 12),\n",
       " ('or', 12),\n",
       " ('still', 12),\n",
       " ('it was', 11),\n",
       " ('him', 11),\n",
       " ('sam', 11),\n",
       " ('you', 11),\n",
       " ('no', 10),\n",
       " ('‘i', 10),\n",
       " ('himself', 9),\n",
       " ('again', 9)]"
      ]
     },
     "execution_count": 66,
     "metadata": {},
     "output_type": "execute_result"
    }
   ],
   "source": [
    "sorted([(key,all_context_counts[\"frodo\"][key]) for key in all_context_counts[\"frodo\"]],reverse=True,key=lambda x: x[1])[:30]"
   ]
  },
  {
   "cell_type": "code",
   "execution_count": 67,
   "metadata": {
    "collapsed": false
   },
   "outputs": [],
   "source": [
    "# fix the order on a word list (order will be essentially random here)\n",
    "fixed_word_list = [word for word in all_context_counts]"
   ]
  },
  {
   "cell_type": "code",
   "execution_count": 68,
   "metadata": {
    "collapsed": false
   },
   "outputs": [
    {
     "data": {
      "text/plain": [
       "['instruct',\n",
       " 'studded',\n",
       " 'they had not gone',\n",
       " 'outlined',\n",
       " 'glen;',\n",
       " 'fortnight’s',\n",
       " 'frodo and sam',\n",
       " 'rounded',\n",
       " 'capable',\n",
       " 'reeds;']"
      ]
     },
     "execution_count": 68,
     "metadata": {},
     "output_type": "execute_result"
    }
   ],
   "source": [
    "fixed_word_list[:10]"
   ]
  },
  {
   "cell_type": "code",
   "execution_count": 69,
   "metadata": {
    "collapsed": true
   },
   "outputs": [],
   "source": [
    "# create a sparse matrix to store all of the PPI in\n",
    "from scipy.sparse import lil_matrix"
   ]
  },
  {
   "cell_type": "code",
   "execution_count": 70,
   "metadata": {
    "collapsed": true
   },
   "outputs": [],
   "source": [
    "M_PMI = lil_matrix((len(fixed_word_list),len(fixed_word_list)))"
   ]
  },
  {
   "cell_type": "code",
   "execution_count": 71,
   "metadata": {
    "collapsed": false
   },
   "outputs": [
    {
     "data": {
      "text/plain": [
       "<15419x15419 sparse matrix of type '<class 'numpy.float64'>'\n",
       "\twith 0 stored elements in LInked List format>"
      ]
     },
     "execution_count": 71,
     "metadata": {},
     "output_type": "execute_result"
    }
   ],
   "source": [
    "M_PMI"
   ]
  },
  {
   "cell_type": "code",
   "execution_count": 72,
   "metadata": {
    "collapsed": false
   },
   "outputs": [
    {
     "name": "stderr",
     "output_type": "stream",
     "text": [
      "100%|██████████| 15419/15419 [04:17<00:00, 48.35it/s]\n"
     ]
    }
   ],
   "source": [
    "for i in tqdm(range(len(fixed_word_list))):\n",
    "    this_phrase = fixed_word_list[i]\n",
    "    row_i = np.zeros(len(fixed_word_list))\n",
    "    for c in all_context_counts[this_phrase]:\n",
    "        # D is fixed by the number of times the word appears\n",
    "        D = (len(all_context_counts[this_phrase]))\n",
    "        PMI_c = np.log10((all_context_counts[this_phrase][c]*D)/(all_phrase_counts[this_phrase]*all_phrase_counts[c]))\n",
    "#         print(PMI_c)\n",
    "        row_i[fixed_word_list.index(c)] = np.max([PMI_c,0])\n",
    "#     print(this_phrase)\n",
    "#     print(all_context_counts[this_phrase])\n",
    "#     print(row_i)\n",
    "#     print(np.max(row_i))\n",
    "#     break\n",
    "    M_PMI[i,:] = row_i"
   ]
  },
  {
   "cell_type": "code",
   "execution_count": 73,
   "metadata": {
    "collapsed": false
   },
   "outputs": [
    {
     "data": {
      "text/plain": [
       "<15419x15419 sparse matrix of type '<class 'numpy.float64'>'\n",
       "\twith 259371 stored elements in LInked List format>"
      ]
     },
     "execution_count": 73,
     "metadata": {},
     "output_type": "execute_result"
    }
   ],
   "source": [
    "M_PMI"
   ]
  },
  {
   "cell_type": "code",
   "execution_count": 74,
   "metadata": {
    "collapsed": false
   },
   "outputs": [
    {
     "data": {
      "text/plain": [
       "0.0010914456170944462"
      ]
     },
     "execution_count": 74,
     "metadata": {},
     "output_type": "execute_result"
    }
   ],
   "source": [
    "259621/(15423*15423)"
   ]
  },
  {
   "cell_type": "code",
   "execution_count": 75,
   "metadata": {
    "collapsed": false
   },
   "outputs": [],
   "source": [
    "from sklearn.decomposition import TruncatedSVD\n",
    "from sklearn.utils.extmath import randomized_svd"
   ]
  },
  {
   "cell_type": "code",
   "execution_count": 76,
   "metadata": {
    "collapsed": true
   },
   "outputs": [],
   "source": [
    "svd = TruncatedSVD(n_components=300, random_state=42)"
   ]
  },
  {
   "cell_type": "code",
   "execution_count": 77,
   "metadata": {
    "collapsed": false
   },
   "outputs": [
    {
     "data": {
      "text/plain": [
       "TruncatedSVD(algorithm='randomized', n_components=300, n_iter=5,\n",
       "       random_state=42, tol=0.0)"
      ]
     },
     "execution_count": 77,
     "metadata": {},
     "output_type": "execute_result"
    }
   ],
   "source": [
    "svd.fit(M_PMI)"
   ]
  },
  {
   "cell_type": "code",
   "execution_count": 78,
   "metadata": {
    "collapsed": false
   },
   "outputs": [
    {
     "name": "stdout",
     "output_type": "stream",
     "text": [
      "[ 0.01683822  0.0063507   0.00606738  0.00563476  0.00478604  0.00424946\n",
      "  0.0040754   0.00378144  0.00363297  0.0035909   0.00333223  0.00328613\n",
      "  0.00315842  0.00297157  0.00290215  0.00286213  0.00277351  0.00274133\n",
      "  0.00266883  0.00259522  0.00249695  0.00243611  0.00224679  0.00220003\n",
      "  0.00216051  0.00209357  0.00206724  0.00201722  0.00190253  0.00187775\n",
      "  0.00185662  0.00179599  0.00176638  0.00176413  0.00174931  0.00171856\n",
      "  0.00169251  0.00168995  0.00165807  0.00164392  0.00164124  0.00162639\n",
      "  0.00161195  0.00160229  0.00156877  0.0015501   0.00153996  0.00150425\n",
      "  0.00148498  0.00147801  0.00146225  0.00144677  0.00143649  0.0014027\n",
      "  0.00139778  0.00135795  0.00135012  0.00132876  0.00131867  0.00129932\n",
      "  0.00129568  0.00127652  0.00127302  0.00126131  0.00124709  0.00123681\n",
      "  0.00122743  0.00121232  0.00120269  0.00119847  0.00119035  0.00118789\n",
      "  0.00117273  0.0011571   0.00115304  0.00113925  0.00113823  0.00113073\n",
      "  0.00112061  0.00111803  0.00110587  0.00109808  0.00109119  0.00108873\n",
      "  0.00107676  0.00107713  0.00107225  0.00106724  0.0010588   0.00105567\n",
      "  0.00104898  0.00104512  0.00103912  0.00103171  0.00102797  0.00102185\n",
      "  0.00101723  0.00101256  0.00100068  0.00099778  0.0009931   0.00099083\n",
      "  0.00097929  0.00097692  0.00097025  0.00096306  0.00095959  0.00095748\n",
      "  0.00094896  0.00094602  0.00094294  0.0009367   0.00093144  0.00092803\n",
      "  0.00092449  0.00091565  0.00090891  0.00090695  0.00090493  0.00089895\n",
      "  0.00089624  0.00088921  0.00088488  0.00088025  0.00087839  0.00087555\n",
      "  0.00086744  0.00086565  0.00086196  0.0008575   0.00085234  0.00084947\n",
      "  0.00084486  0.00083976  0.00083736  0.00083532  0.0008343   0.00082399\n",
      "  0.00082249  0.00081904  0.00081443  0.00081052  0.00080853  0.00080596\n",
      "  0.00080417  0.00080367  0.00079944  0.00079425  0.00079064  0.0007851\n",
      "  0.0007853   0.00078118  0.00077812  0.0007766   0.00077193  0.00076817\n",
      "  0.00076332  0.00076009  0.00075778  0.00075643  0.00074943  0.00074883\n",
      "  0.00074516  0.0007425   0.00074171  0.00073931  0.00073491  0.00073318\n",
      "  0.0007288   0.00072629  0.00072488  0.00072322  0.00071888  0.00071379\n",
      "  0.0007121   0.00071099  0.00070692  0.00070505  0.00069922  0.00069843\n",
      "  0.00069551  0.00069447  0.00069132  0.00068714  0.00068409  0.00068217\n",
      "  0.00067886  0.00067576  0.00067399  0.00067171  0.00066817  0.00066742\n",
      "  0.00066507  0.00066059  0.0006601   0.00065891  0.00065505  0.00065302\n",
      "  0.00065086  0.00065079  0.00064802  0.00064379  0.00063977  0.00063923\n",
      "  0.00063629  0.0006357   0.00063116  0.00062884  0.00062687  0.00062455\n",
      "  0.00062344  0.00061998  0.0006201   0.00061642  0.00061553  0.0006137\n",
      "  0.00061042  0.00060891  0.00060829  0.00060713  0.00060346  0.00060173\n",
      "  0.00059887  0.00059825  0.00059665  0.00059304  0.00059208  0.00059117\n",
      "  0.00058968  0.00058888  0.00058778  0.00058454  0.00058168  0.00058126\n",
      "  0.00057873  0.00057843  0.00057619  0.00057207  0.00057151  0.00057043\n",
      "  0.00056894  0.00056814  0.00056581  0.00056464  0.00056276  0.00055951\n",
      "  0.00055866  0.00055717  0.00055549  0.00055244  0.00054961  0.00054776\n",
      "  0.00054596  0.00054593  0.00054443  0.000542    0.00053938  0.00053851\n",
      "  0.00053705  0.00053516  0.00053244  0.00053105  0.00053049  0.0005286\n",
      "  0.00052609  0.00052597  0.00052283  0.00052265  0.00052081  0.00051891\n",
      "  0.00051592  0.0005134   0.00051299  0.00051186  0.00050969  0.00050639\n",
      "  0.00050553  0.00050461  0.00050335  0.00050078  0.00049953  0.00049732\n",
      "  0.00049556  0.00049502  0.00049249  0.00049084  0.00049003  0.00048909\n",
      "  0.00048436  0.00048407  0.00048132  0.00048073  0.00047676  0.0004754\n",
      "  0.00047476  0.0004723   0.00047006  0.00046875  0.00046612  0.00046403]\n"
     ]
    }
   ],
   "source": [
    "print(svd.explained_variance_ratio_)"
   ]
  },
  {
   "cell_type": "code",
   "execution_count": 79,
   "metadata": {
    "collapsed": false
   },
   "outputs": [
    {
     "data": {
      "text/plain": [
       "[<matplotlib.lines.Line2D at 0x11697a518>]"
      ]
     },
     "execution_count": 79,
     "metadata": {},
     "output_type": "execute_result"
    },
    {
     "data": {
      "image/png": "[encoded data removed]",
      "text/plain": [
       "<matplotlib.figure.Figure at 0x11591ec50>"
      ]
     },
     "metadata": {},
     "output_type": "display_data"
    }
   ],
   "source": [
    "plt.plot(np.log10(svd.explained_variance_ratio_))"
   ]
  },
  {
   "cell_type": "code",
   "execution_count": 80,
   "metadata": {
    "collapsed": false
   },
   "outputs": [],
   "source": [
    "U = svd.fit_transform(M_PMI)"
   ]
  },
  {
   "cell_type": "code",
   "execution_count": 81,
   "metadata": {
    "collapsed": false
   },
   "outputs": [
    {
     "data": {
      "text/plain": [
       "(15419, 300)"
      ]
     },
     "execution_count": 81,
     "metadata": {},
     "output_type": "execute_result"
    }
   ],
   "source": [
    "U.shape"
   ]
  },
  {
   "cell_type": "code",
   "execution_count": 97,
   "metadata": {
    "collapsed": false
   },
   "outputs": [
    {
     "data": {
      "text/plain": [
       "<matplotlib.text.Text at 0x116710ac8>"
      ]
     },
     "execution_count": 97,
     "metadata": {},
     "output_type": "execute_result"
    },
    {
     "data": {
      "image/png": "[encoded data removed]",
      "text/plain": [
       "<matplotlib.figure.Figure at 0x1164e04e0>"
      ]
     },
     "metadata": {},
     "output_type": "display_data"
    }
   ],
   "source": [
    "plt.figure(figsize=(8,8))\n",
    "for word in [\"gondor\",\"mordor\",\"sam\",\"frodo\",\"gandalf\",\"gollum\",\"aragorn\",\"shire\",\"moria\",\"legolas\",\"rivendell\",\"gimli\"]:\n",
    "    gondor = U[fixed_word_list.index(word),:2]\n",
    "    plt.scatter(gondor[0],gondor[1])\n",
    "    plt.annotate(word,xy=[gondor[0]+.01,gondor[1]+.01])\n",
    "plt.xlabel(\"dimension 1\")\n",
    "plt.ylabel(\"dimension 2\")"
   ]
  },
  {
   "cell_type": "code",
   "execution_count": 105,
   "metadata": {
    "collapsed": false
   },
   "outputs": [
    {
     "data": {
      "text/plain": [
       "<matplotlib.text.Text at 0x115948b00>"
      ]
     },
     "execution_count": 105,
     "metadata": {},
     "output_type": "execute_result"
    },
    {
     "data": {
      "image/png": "[encoded data removed]",
      "text/plain": [
       "<matplotlib.figure.Figure at 0x115a505f8>"
      ]
     },
     "metadata": {},
     "output_type": "display_data"
    }
   ],
   "source": [
    "plt.figure(figsize=(8,8))\n",
    "for word in [\"happy\",\"sad\",\"mordor\",\"shire\",\"moria\",\"the ring\",\"in the shire\",'the lord of the rings']:\n",
    "    gondor = U[fixed_word_list.index(word),:2]\n",
    "    plt.scatter(gondor[0],gondor[1])\n",
    "    plt.annotate(word,xy=[gondor[0],gondor[1]])\n",
    "plt.xlabel(\"dimension 1\")\n",
    "plt.ylabel(\"dimension 2\")"
   ]
  },
  {
   "cell_type": "code",
   "execution_count": 84,
   "metadata": {
    "collapsed": false
   },
   "outputs": [
    {
     "data": {
      "text/plain": [
       "array([ 1.06311684,  0.14486732])"
      ]
     },
     "execution_count": 84,
     "metadata": {},
     "output_type": "execute_result"
    }
   ],
   "source": [
    "U[fixed_word_list.index(\"sam\"),:2]"
   ]
  },
  {
   "cell_type": "code",
   "execution_count": 85,
   "metadata": {
    "collapsed": false
   },
   "outputs": [
    {
     "data": {
      "text/plain": [
       "array([ 2.00508008,  0.20663159])"
      ]
     },
     "execution_count": 85,
     "metadata": {},
     "output_type": "execute_result"
    }
   ],
   "source": [
    "U[fixed_word_list.index(\"frodo\"),:2]"
   ]
  },
  {
   "cell_type": "code",
   "execution_count": null,
   "metadata": {
    "collapsed": true
   },
   "outputs": [],
   "source": []
  }
 ],
 "metadata": {
  "kernelspec": {
   "display_name": "Python 3",
   "language": "python",
   "name": "python3"
  },
  "language_info": {
   "codemirror_mode": {
    "name": "ipython",
    "version": 3
   },
   "file_extension": ".py",
   "mimetype": "text/x-python",
   "name": "python",
   "nbconvert_exporter": "python",
   "pygments_lexer": "ipython3",
   "version": "3.5.1"
  }
 },
 "nbformat": 4,
 "nbformat_minor": 0
}
